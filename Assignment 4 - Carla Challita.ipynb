{
 "cells": [
  {
   "cell_type": "markdown",
   "id": "ebde15be",
   "metadata": {},
   "source": [
    "# Carla Challita "
   ]
  },
  {
   "cell_type": "markdown",
   "id": "0beeaa6b",
   "metadata": {},
   "source": [
    "## Chapter 8"
   ]
  },
  {
   "cell_type": "markdown",
   "id": "0c299f97",
   "metadata": {},
   "source": [
    "### Exercise 3 "
   ]
  },
  {
   "cell_type": "code",
   "execution_count": 49,
   "id": "823faec0",
   "metadata": {},
   "outputs": [
    {
     "data": {
      "image/png": "[encoded data removed]",
      "text/plain": [
       "plot without title"
      ]
     },
     "metadata": {},
     "output_type": "display_data"
    }
   ],
   "source": [
    "p <- seq(0, 1, 0.01)\n",
    "Gini_index <- 2 * p * (1 - p)\n",
    "classification_error <- 1 - pmax(p, 1 - p)\n",
    "entropy <- -(p * log(p) + (1 - p) * log(1 - p))\n",
    "matplot(pm_1, cbind(Gini_index, classification_error, entropy), col = c(\"red\", \"green\", \"blue\"))"
   ]
  },
  {
   "cell_type": "markdown",
   "id": "b152467f",
   "metadata": {},
   "source": [
    "### Exercise 5"
   ]
  },
  {
   "cell_type": "code",
   "execution_count": 50,
   "id": "15ee6ead",
   "metadata": {},
   "outputs": [],
   "source": [
    "#Majority vote approach: X is classified as Red since it occurs more times than Green in the 10 predictions. \n",
    "#Average probability approach: X is classified as Green since the average of the 10 probabilities of Red is 0.45."
   ]
  },
  {
   "cell_type": "markdown",
   "id": "64bd7503",
   "metadata": {},
   "source": [
    "### Exercise 8"
   ]
  },
  {
   "cell_type": "code",
   "execution_count": 51,
   "id": "2d6a6630",
   "metadata": {},
   "outputs": [
    {
     "data": {
      "text/html": [
       "<table>\n",
       "<thead><tr><th scope=col>Sales</th><th scope=col>CompPrice</th><th scope=col>Income</th><th scope=col>Advertising</th><th scope=col>Population</th><th scope=col>Price</th><th scope=col>ShelveLoc</th><th scope=col>Age</th><th scope=col>Education</th><th scope=col>Urban</th><th scope=col>US</th></tr></thead>\n",
       "<tbody>\n",
       "\t<tr><td> 9.50 </td><td>138   </td><td> 73   </td><td>11    </td><td>276   </td><td>120   </td><td>Bad   </td><td>42    </td><td>17    </td><td>Yes   </td><td>Yes   </td></tr>\n",
       "\t<tr><td>11.22 </td><td>111   </td><td> 48   </td><td>16    </td><td>260   </td><td> 83   </td><td>Good  </td><td>65    </td><td>10    </td><td>Yes   </td><td>Yes   </td></tr>\n",
       "\t<tr><td>10.06 </td><td>113   </td><td> 35   </td><td>10    </td><td>269   </td><td> 80   </td><td>Medium</td><td>59    </td><td>12    </td><td>Yes   </td><td>Yes   </td></tr>\n",
       "\t<tr><td> 7.40 </td><td>117   </td><td>100   </td><td> 4    </td><td>466   </td><td> 97   </td><td>Medium</td><td>55    </td><td>14    </td><td>Yes   </td><td>Yes   </td></tr>\n",
       "\t<tr><td> 4.15 </td><td>141   </td><td> 64   </td><td> 3    </td><td>340   </td><td>128   </td><td>Bad   </td><td>38    </td><td>13    </td><td>Yes   </td><td>No    </td></tr>\n",
       "\t<tr><td>10.81 </td><td>124   </td><td>113   </td><td>13    </td><td>501   </td><td> 72   </td><td>Bad   </td><td>78    </td><td>16    </td><td>No    </td><td>Yes   </td></tr>\n",
       "</tbody>\n",
       "</table>\n"
      ],
      "text/latex": [
       "\\begin{tabular}{r|lllllllllll}\n",
       " Sales & CompPrice & Income & Advertising & Population & Price & ShelveLoc & Age & Education & Urban & US\\\\\n",
       "\\hline\n",
       "\t  9.50  & 138    &  73    & 11     & 276    & 120    & Bad    & 42     & 17     & Yes    & Yes   \\\\\n",
       "\t 11.22  & 111    &  48    & 16     & 260    &  83    & Good   & 65     & 10     & Yes    & Yes   \\\\\n",
       "\t 10.06  & 113    &  35    & 10     & 269    &  80    & Medium & 59     & 12     & Yes    & Yes   \\\\\n",
       "\t  7.40  & 117    & 100    &  4     & 466    &  97    & Medium & 55     & 14     & Yes    & Yes   \\\\\n",
       "\t  4.15  & 141    &  64    &  3     & 340    & 128    & Bad    & 38     & 13     & Yes    & No    \\\\\n",
       "\t 10.81  & 124    & 113    & 13     & 501    &  72    & Bad    & 78     & 16     & No     & Yes   \\\\\n",
       "\\end{tabular}\n"
      ],
      "text/markdown": [
       "\n",
       "| Sales | CompPrice | Income | Advertising | Population | Price | ShelveLoc | Age | Education | Urban | US |\n",
       "|---|---|---|---|---|---|---|---|---|---|---|\n",
       "|  9.50  | 138    |  73    | 11     | 276    | 120    | Bad    | 42     | 17     | Yes    | Yes    |\n",
       "| 11.22  | 111    |  48    | 16     | 260    |  83    | Good   | 65     | 10     | Yes    | Yes    |\n",
       "| 10.06  | 113    |  35    | 10     | 269    |  80    | Medium | 59     | 12     | Yes    | Yes    |\n",
       "|  7.40  | 117    | 100    |  4     | 466    |  97    | Medium | 55     | 14     | Yes    | Yes    |\n",
       "|  4.15  | 141    |  64    |  3     | 340    | 128    | Bad    | 38     | 13     | Yes    | No     |\n",
       "| 10.81  | 124    | 113    | 13     | 501    |  72    | Bad    | 78     | 16     | No     | Yes    |\n",
       "\n"
      ],
      "text/plain": [
       "  Sales CompPrice Income Advertising Population Price ShelveLoc Age Education\n",
       "1  9.50 138        73    11          276        120   Bad       42  17       \n",
       "2 11.22 111        48    16          260         83   Good      65  10       \n",
       "3 10.06 113        35    10          269         80   Medium    59  12       \n",
       "4  7.40 117       100     4          466         97   Medium    55  14       \n",
       "5  4.15 141        64     3          340        128   Bad       38  13       \n",
       "6 10.81 124       113    13          501         72   Bad       78  16       \n",
       "  Urban US \n",
       "1 Yes   Yes\n",
       "2 Yes   Yes\n",
       "3 Yes   Yes\n",
       "4 Yes   Yes\n",
       "5 Yes   No \n",
       "6 No    Yes"
      ]
     },
     "metadata": {},
     "output_type": "display_data"
    }
   ],
   "source": [
    "library(ISLR)\n",
    "data(Carseats)\n",
    "head(Carseats)"
   ]
  },
  {
   "cell_type": "code",
   "execution_count": 52,
   "id": "558b5397",
   "metadata": {},
   "outputs": [],
   "source": [
    "#Part a\n",
    "set.seed(123)\n",
    "data_split <- sample(1:nrow(Carseats), nrow(Carseats)/2)\n",
    "train <- Carseats[data_split,]\n",
    "test <- Carseats[-data_split,]"
   ]
  },
  {
   "cell_type": "code",
   "execution_count": 53,
   "id": "011e6914",
   "metadata": {},
   "outputs": [
    {
     "name": "stdout",
     "output_type": "stream",
     "text": [
      "\n",
      "  There is a binary version available but the source version is later:\n",
      "     binary source needs_compilation\n",
      "tree 1.0-40 1.0-41              TRUE\n",
      "\n",
      "  Binaries will be installed\n"
     ]
    },
    {
     "name": "stderr",
     "output_type": "stream",
     "text": [
      "Warning message:\n",
      "\"package 'tree' is in use and will not be installed\""
     ]
    },
    {
     "data": {
      "text/plain": [
       "\n",
       "Regression tree:\n",
       "tree(formula = Sales ~ ., data = train)\n",
       "Variables actually used in tree construction:\n",
       "[1] \"ShelveLoc\"   \"Price\"       \"Income\"      \"Age\"         \"Population\" \n",
       "[6] \"Education\"   \"CompPrice\"   \"Advertising\"\n",
       "Number of terminal nodes:  18 \n",
       "Residual mean deviance:  2.132 = 388.1 / 182 \n",
       "Distribution of residuals:\n",
       "    Min.  1st Qu.   Median     Mean  3rd Qu.     Max. \n",
       "-4.08000 -0.92870  0.06244  0.00000  0.87020  3.71700 "
      ]
     },
     "metadata": {},
     "output_type": "display_data"
    }
   ],
   "source": [
    "#Part b\n",
    "install.packages(\"tree\")\n",
    "library(tree)\n",
    "tree_Carseats <- tree(Sales ~ ., data = train)\n",
    "summary(tree_Carseats)"
   ]
  },
  {
   "cell_type": "code",
   "execution_count": 54,
   "id": "2442fb41",
   "metadata": {},
   "outputs": [
    {
     "data": {
      "image/png": "[encoded data removed]",
      "text/plain": [
       "plot without title"
      ]
     },
     "metadata": {},
     "output_type": "display_data"
    }
   ],
   "source": [
    "plot(tree_Carseats)\n",
    "text(tree_Carseats)"
   ]
  },
  {
   "cell_type": "code",
   "execution_count": 55,
   "id": "0a6709df",
   "metadata": {},
   "outputs": [
    {
     "data": {
      "text/html": [
       "4.39535740766638"
      ],
      "text/latex": [
       "4.39535740766638"
      ],
      "text/markdown": [
       "4.39535740766638"
      ],
      "text/plain": [
       "[1] 4.395357"
      ]
     },
     "metadata": {},
     "output_type": "display_data"
    }
   ],
   "source": [
    "tree_pred <- predict(tree_Carseats, newdata=test)\n",
    "tree_err <- mean((test$Sales - tree_pred)^2)\n",
    "tree_err\n",
    "#The test MSE is 4.39."
   ]
  },
  {
   "cell_type": "code",
   "execution_count": 56,
   "id": "34030631",
   "metadata": {},
   "outputs": [
    {
     "data": {
      "image/png": "[encoded data removed]",
      "text/plain": [
       "plot without title"
      ]
     },
     "metadata": {},
     "output_type": "display_data"
    }
   ],
   "source": [
    "#Part c\n",
    "cv.Carseats <- cv.tree(tree_Carseats)\n",
    "plot(cv.Carseats$size, cv.Carseats$dev, type = \"b\")"
   ]
  },
  {
   "cell_type": "code",
   "execution_count": 57,
   "id": "0669d051",
   "metadata": {},
   "outputs": [
    {
     "data": {
      "image/png": "[encoded data removed]",
      "text/plain": [
       "plot without title"
      ]
     },
     "metadata": {},
     "output_type": "display_data"
    }
   ],
   "source": [
    "#The tree of size 15 is selected according to the above cross validation\n",
    "prune_Carseats <- prune.tree(tree_Carseats, best = 15)\n",
    "plot(prune_Carseats)\n",
    "text(prune_Carseats, pretty = 0)"
   ]
  },
  {
   "cell_type": "code",
   "execution_count": 58,
   "id": "ab450d0c",
   "metadata": {},
   "outputs": [
    {
     "data": {
      "text/html": [
       "4.59161771546871"
      ],
      "text/latex": [
       "4.59161771546871"
      ],
      "text/markdown": [
       "4.59161771546871"
      ],
      "text/plain": [
       "[1] 4.591618"
      ]
     },
     "metadata": {},
     "output_type": "display_data"
    }
   ],
   "source": [
    "tree_pred <- predict(prune_Carseats, newdata = test)\n",
    "tree_err <- mean((test$Sales - tree_pred)^2)\n",
    "tree_err\n",
    "#The test MSE is 4.59."
   ]
  },
  {
   "cell_type": "code",
   "execution_count": 59,
   "id": "62273c86",
   "metadata": {},
   "outputs": [
    {
     "data": {
      "text/html": [
       "2.76143978767696"
      ],
      "text/latex": [
       "2.76143978767696"
      ],
      "text/markdown": [
       "2.76143978767696"
      ],
      "text/plain": [
       "[1] 2.76144"
      ]
     },
     "metadata": {},
     "output_type": "display_data"
    }
   ],
   "source": [
    "#Part d\n",
    "library (randomForest)\n",
    "set.seed(123)\n",
    "bag_Carseats <- randomForest(Sales ~ ., data = train, mtry = 10, importance = TRUE)\n",
    "bag_pred <- predict(bag_Carseats, newdata = test)\n",
    "bag_err <- mean((test$Sales - bag_pred)^2)\n",
    "bag_err\n",
    "#The test MSE decreasd to 2.76. "
   ]
  },
  {
   "cell_type": "code",
   "execution_count": 60,
   "id": "6d30aaec",
   "metadata": {},
   "outputs": [
    {
     "data": {
      "text/html": [
       "<table>\n",
       "<thead><tr><th></th><th scope=col>%IncMSE</th><th scope=col>IncNodePurity</th></tr></thead>\n",
       "<tbody>\n",
       "\t<tr><th scope=row>CompPrice</th><td>20.3414969</td><td>158.911610</td></tr>\n",
       "\t<tr><th scope=row>Income</th><td> 6.6237140</td><td> 90.369331</td></tr>\n",
       "\t<tr><th scope=row>Advertising</th><td> 5.7777253</td><td> 72.793558</td></tr>\n",
       "\t<tr><th scope=row>Population</th><td>-2.2001506</td><td> 55.786278</td></tr>\n",
       "\t<tr><th scope=row>Price</th><td>44.3578602</td><td>380.255094</td></tr>\n",
       "\t<tr><th scope=row>ShelveLoc</th><td>48.3345635</td><td>387.886972</td></tr>\n",
       "\t<tr><th scope=row>Age</th><td>18.6296851</td><td>187.107660</td></tr>\n",
       "\t<tr><th scope=row>Education</th><td> 2.6619834</td><td> 55.987493</td></tr>\n",
       "\t<tr><th scope=row>Urban</th><td> 0.9276070</td><td>  8.152320</td></tr>\n",
       "\t<tr><th scope=row>US</th><td> 0.4202302</td><td>  5.900097</td></tr>\n",
       "</tbody>\n",
       "</table>\n"
      ],
      "text/latex": [
       "\\begin{tabular}{r|ll}\n",
       "  & \\%IncMSE & IncNodePurity\\\\\n",
       "\\hline\n",
       "\tCompPrice & 20.3414969 & 158.911610\\\\\n",
       "\tIncome &  6.6237140 &  90.369331\\\\\n",
       "\tAdvertising &  5.7777253 &  72.793558\\\\\n",
       "\tPopulation & -2.2001506 &  55.786278\\\\\n",
       "\tPrice & 44.3578602 & 380.255094\\\\\n",
       "\tShelveLoc & 48.3345635 & 387.886972\\\\\n",
       "\tAge & 18.6296851 & 187.107660\\\\\n",
       "\tEducation &  2.6619834 &  55.987493\\\\\n",
       "\tUrban &  0.9276070 &   8.152320\\\\\n",
       "\tUS &  0.4202302 &   5.900097\\\\\n",
       "\\end{tabular}\n"
      ],
      "text/markdown": [
       "\n",
       "| <!--/--> | %IncMSE | IncNodePurity |\n",
       "|---|---|---|\n",
       "| CompPrice | 20.3414969 | 158.911610 |\n",
       "| Income |  6.6237140 |  90.369331 |\n",
       "| Advertising |  5.7777253 |  72.793558 |\n",
       "| Population | -2.2001506 |  55.786278 |\n",
       "| Price | 44.3578602 | 380.255094 |\n",
       "| ShelveLoc | 48.3345635 | 387.886972 |\n",
       "| Age | 18.6296851 | 187.107660 |\n",
       "| Education |  2.6619834 |  55.987493 |\n",
       "| Urban |  0.9276070 |   8.152320 |\n",
       "| US |  0.4202302 |   5.900097 |\n",
       "\n"
      ],
      "text/plain": [
       "            %IncMSE    IncNodePurity\n",
       "CompPrice   20.3414969 158.911610   \n",
       "Income       6.6237140  90.369331   \n",
       "Advertising  5.7777253  72.793558   \n",
       "Population  -2.2001506  55.786278   \n",
       "Price       44.3578602 380.255094   \n",
       "ShelveLoc   48.3345635 387.886972   \n",
       "Age         18.6296851 187.107660   \n",
       "Education    2.6619834  55.987493   \n",
       "Urban        0.9276070   8.152320   \n",
       "US           0.4202302   5.900097   "
      ]
     },
     "metadata": {},
     "output_type": "display_data"
    }
   ],
   "source": [
    "importance(bag_Carseats)\n",
    "#According to the below results, the variables Price and ShelveLoc are most important."
   ]
  },
  {
   "cell_type": "code",
   "execution_count": 61,
   "id": "52f19745",
   "metadata": {},
   "outputs": [
    {
     "data": {
      "text/html": [
       "3.53312526355001"
      ],
      "text/latex": [
       "3.53312526355001"
      ],
      "text/markdown": [
       "3.53312526355001"
      ],
      "text/plain": [
       "[1] 3.533125"
      ]
     },
     "metadata": {},
     "output_type": "display_data"
    }
   ],
   "source": [
    "#Part e \n",
    "set.seed(123)\n",
    "rf_Carseats <- randomForest(Sales ~ ., data = train, mtry = 3, importance = TRUE)\n",
    "rf_pred <- predict(rf_Carseats, newdata = test)\n",
    "rf_err <- mean((test$Sales - rf_pred)^2)\n",
    "rf_err\n",
    "#The test MSE increases to 3.53. "
   ]
  },
  {
   "cell_type": "code",
   "execution_count": 62,
   "id": "488b9761",
   "metadata": {},
   "outputs": [
    {
     "data": {
      "text/html": [
       "<table>\n",
       "<thead><tr><th></th><th scope=col>%IncMSE</th><th scope=col>IncNodePurity</th></tr></thead>\n",
       "<tbody>\n",
       "\t<tr><th scope=row>CompPrice</th><td>11.95200717</td><td>145.12635  </td></tr>\n",
       "\t<tr><th scope=row>Income</th><td> 5.20336607</td><td>118.16230  </td></tr>\n",
       "\t<tr><th scope=row>Advertising</th><td> 7.04990655</td><td> 98.65437  </td></tr>\n",
       "\t<tr><th scope=row>Population</th><td> 2.81702037</td><td>103.08744  </td></tr>\n",
       "\t<tr><th scope=row>Price</th><td>31.00971810</td><td>296.40130  </td></tr>\n",
       "\t<tr><th scope=row>ShelveLoc</th><td>31.20191070</td><td>275.21715  </td></tr>\n",
       "\t<tr><th scope=row>Age</th><td>16.38791734</td><td>207.57234  </td></tr>\n",
       "\t<tr><th scope=row>Education</th><td> 0.70334051</td><td> 74.24887  </td></tr>\n",
       "\t<tr><th scope=row>Urban</th><td> 0.04221302</td><td> 16.05767  </td></tr>\n",
       "\t<tr><th scope=row>US</th><td> 1.67637748</td><td> 13.58655  </td></tr>\n",
       "</tbody>\n",
       "</table>\n"
      ],
      "text/latex": [
       "\\begin{tabular}{r|ll}\n",
       "  & \\%IncMSE & IncNodePurity\\\\\n",
       "\\hline\n",
       "\tCompPrice & 11.95200717 & 145.12635  \\\\\n",
       "\tIncome &  5.20336607 & 118.16230  \\\\\n",
       "\tAdvertising &  7.04990655 &  98.65437  \\\\\n",
       "\tPopulation &  2.81702037 & 103.08744  \\\\\n",
       "\tPrice & 31.00971810 & 296.40130  \\\\\n",
       "\tShelveLoc & 31.20191070 & 275.21715  \\\\\n",
       "\tAge & 16.38791734 & 207.57234  \\\\\n",
       "\tEducation &  0.70334051 &  74.24887  \\\\\n",
       "\tUrban &  0.04221302 &  16.05767  \\\\\n",
       "\tUS &  1.67637748 &  13.58655  \\\\\n",
       "\\end{tabular}\n"
      ],
      "text/markdown": [
       "\n",
       "| <!--/--> | %IncMSE | IncNodePurity |\n",
       "|---|---|---|\n",
       "| CompPrice | 11.95200717 | 145.12635   |\n",
       "| Income |  5.20336607 | 118.16230   |\n",
       "| Advertising |  7.04990655 |  98.65437   |\n",
       "| Population |  2.81702037 | 103.08744   |\n",
       "| Price | 31.00971810 | 296.40130   |\n",
       "| ShelveLoc | 31.20191070 | 275.21715   |\n",
       "| Age | 16.38791734 | 207.57234   |\n",
       "| Education |  0.70334051 |  74.24887   |\n",
       "| Urban |  0.04221302 |  16.05767   |\n",
       "| US |  1.67637748 |  13.58655   |\n",
       "\n"
      ],
      "text/plain": [
       "            %IncMSE     IncNodePurity\n",
       "CompPrice   11.95200717 145.12635    \n",
       "Income       5.20336607 118.16230    \n",
       "Advertising  7.04990655  98.65437    \n",
       "Population   2.81702037 103.08744    \n",
       "Price       31.00971810 296.40130    \n",
       "ShelveLoc   31.20191070 275.21715    \n",
       "Age         16.38791734 207.57234    \n",
       "Education    0.70334051  74.24887    \n",
       "Urban        0.04221302  16.05767    \n",
       "US           1.67637748  13.58655    "
      ]
     },
     "metadata": {},
     "output_type": "display_data"
    }
   ],
   "source": [
    "importance(rf_Carseats)\n",
    "#According to the below results, the variables Price and ShelveLoc are also the most important."
   ]
  },
  {
   "cell_type": "markdown",
   "id": "4ea5d55c",
   "metadata": {},
   "source": [
    "### Exercise 9"
   ]
  },
  {
   "cell_type": "code",
   "execution_count": 64,
   "id": "7671bd48",
   "metadata": {},
   "outputs": [
    {
     "data": {
      "text/html": [
       "<table>\n",
       "<thead><tr><th scope=col>Purchase</th><th scope=col>WeekofPurchase</th><th scope=col>StoreID</th><th scope=col>PriceCH</th><th scope=col>PriceMM</th><th scope=col>DiscCH</th><th scope=col>DiscMM</th><th scope=col>SpecialCH</th><th scope=col>SpecialMM</th><th scope=col>LoyalCH</th><th scope=col>SalePriceMM</th><th scope=col>SalePriceCH</th><th scope=col>PriceDiff</th><th scope=col>Store7</th><th scope=col>PctDiscMM</th><th scope=col>PctDiscCH</th><th scope=col>ListPriceDiff</th><th scope=col>STORE</th></tr></thead>\n",
       "<tbody>\n",
       "\t<tr><td>CH      </td><td>237     </td><td>1       </td><td>1.75    </td><td>1.99    </td><td>0.00    </td><td>0.0     </td><td>0       </td><td>0       </td><td>0.500000</td><td>1.99    </td><td>1.75    </td><td> 0.24   </td><td>No      </td><td>0.000000</td><td>0.000000</td><td>0.24    </td><td>1       </td></tr>\n",
       "\t<tr><td>CH      </td><td>239     </td><td>1       </td><td>1.75    </td><td>1.99    </td><td>0.00    </td><td>0.3     </td><td>0       </td><td>1       </td><td>0.600000</td><td>1.69    </td><td>1.75    </td><td>-0.06   </td><td>No      </td><td>0.150754</td><td>0.000000</td><td>0.24    </td><td>1       </td></tr>\n",
       "\t<tr><td>CH      </td><td>245     </td><td>1       </td><td>1.86    </td><td>2.09    </td><td>0.17    </td><td>0.0     </td><td>0       </td><td>0       </td><td>0.680000</td><td>2.09    </td><td>1.69    </td><td> 0.40   </td><td>No      </td><td>0.000000</td><td>0.091398</td><td>0.23    </td><td>1       </td></tr>\n",
       "\t<tr><td>MM      </td><td>227     </td><td>1       </td><td>1.69    </td><td>1.69    </td><td>0.00    </td><td>0.0     </td><td>0       </td><td>0       </td><td>0.400000</td><td>1.69    </td><td>1.69    </td><td> 0.00   </td><td>No      </td><td>0.000000</td><td>0.000000</td><td>0.00    </td><td>1       </td></tr>\n",
       "\t<tr><td>CH      </td><td>228     </td><td>7       </td><td>1.69    </td><td>1.69    </td><td>0.00    </td><td>0.0     </td><td>0       </td><td>0       </td><td>0.956535</td><td>1.69    </td><td>1.69    </td><td> 0.00   </td><td>Yes     </td><td>0.000000</td><td>0.000000</td><td>0.00    </td><td>0       </td></tr>\n",
       "\t<tr><td>CH      </td><td>230     </td><td>7       </td><td>1.69    </td><td>1.99    </td><td>0.00    </td><td>0.0     </td><td>0       </td><td>1       </td><td>0.965228</td><td>1.99    </td><td>1.69    </td><td> 0.30   </td><td>Yes     </td><td>0.000000</td><td>0.000000</td><td>0.30    </td><td>0       </td></tr>\n",
       "</tbody>\n",
       "</table>\n"
      ],
      "text/latex": [
       "\\begin{tabular}{r|llllllllllllllllll}\n",
       " Purchase & WeekofPurchase & StoreID & PriceCH & PriceMM & DiscCH & DiscMM & SpecialCH & SpecialMM & LoyalCH & SalePriceMM & SalePriceCH & PriceDiff & Store7 & PctDiscMM & PctDiscCH & ListPriceDiff & STORE\\\\\n",
       "\\hline\n",
       "\t CH       & 237      & 1        & 1.75     & 1.99     & 0.00     & 0.0      & 0        & 0        & 0.500000 & 1.99     & 1.75     &  0.24    & No       & 0.000000 & 0.000000 & 0.24     & 1       \\\\\n",
       "\t CH       & 239      & 1        & 1.75     & 1.99     & 0.00     & 0.3      & 0        & 1        & 0.600000 & 1.69     & 1.75     & -0.06    & No       & 0.150754 & 0.000000 & 0.24     & 1       \\\\\n",
       "\t CH       & 245      & 1        & 1.86     & 2.09     & 0.17     & 0.0      & 0        & 0        & 0.680000 & 2.09     & 1.69     &  0.40    & No       & 0.000000 & 0.091398 & 0.23     & 1       \\\\\n",
       "\t MM       & 227      & 1        & 1.69     & 1.69     & 0.00     & 0.0      & 0        & 0        & 0.400000 & 1.69     & 1.69     &  0.00    & No       & 0.000000 & 0.000000 & 0.00     & 1       \\\\\n",
       "\t CH       & 228      & 7        & 1.69     & 1.69     & 0.00     & 0.0      & 0        & 0        & 0.956535 & 1.69     & 1.69     &  0.00    & Yes      & 0.000000 & 0.000000 & 0.00     & 0       \\\\\n",
       "\t CH       & 230      & 7        & 1.69     & 1.99     & 0.00     & 0.0      & 0        & 1        & 0.965228 & 1.99     & 1.69     &  0.30    & Yes      & 0.000000 & 0.000000 & 0.30     & 0       \\\\\n",
       "\\end{tabular}\n"
      ],
      "text/markdown": [
       "\n",
       "| Purchase | WeekofPurchase | StoreID | PriceCH | PriceMM | DiscCH | DiscMM | SpecialCH | SpecialMM | LoyalCH | SalePriceMM | SalePriceCH | PriceDiff | Store7 | PctDiscMM | PctDiscCH | ListPriceDiff | STORE |\n",
       "|---|---|---|---|---|---|---|---|---|---|---|---|---|---|---|---|---|---|\n",
       "| CH       | 237      | 1        | 1.75     | 1.99     | 0.00     | 0.0      | 0        | 0        | 0.500000 | 1.99     | 1.75     |  0.24    | No       | 0.000000 | 0.000000 | 0.24     | 1        |\n",
       "| CH       | 239      | 1        | 1.75     | 1.99     | 0.00     | 0.3      | 0        | 1        | 0.600000 | 1.69     | 1.75     | -0.06    | No       | 0.150754 | 0.000000 | 0.24     | 1        |\n",
       "| CH       | 245      | 1        | 1.86     | 2.09     | 0.17     | 0.0      | 0        | 0        | 0.680000 | 2.09     | 1.69     |  0.40    | No       | 0.000000 | 0.091398 | 0.23     | 1        |\n",
       "| MM       | 227      | 1        | 1.69     | 1.69     | 0.00     | 0.0      | 0        | 0        | 0.400000 | 1.69     | 1.69     |  0.00    | No       | 0.000000 | 0.000000 | 0.00     | 1        |\n",
       "| CH       | 228      | 7        | 1.69     | 1.69     | 0.00     | 0.0      | 0        | 0        | 0.956535 | 1.69     | 1.69     |  0.00    | Yes      | 0.000000 | 0.000000 | 0.00     | 0        |\n",
       "| CH       | 230      | 7        | 1.69     | 1.99     | 0.00     | 0.0      | 0        | 1        | 0.965228 | 1.99     | 1.69     |  0.30    | Yes      | 0.000000 | 0.000000 | 0.30     | 0        |\n",
       "\n"
      ],
      "text/plain": [
       "  Purchase WeekofPurchase StoreID PriceCH PriceMM DiscCH DiscMM SpecialCH\n",
       "1 CH       237            1       1.75    1.99    0.00   0.0    0        \n",
       "2 CH       239            1       1.75    1.99    0.00   0.3    0        \n",
       "3 CH       245            1       1.86    2.09    0.17   0.0    0        \n",
       "4 MM       227            1       1.69    1.69    0.00   0.0    0        \n",
       "5 CH       228            7       1.69    1.69    0.00   0.0    0        \n",
       "6 CH       230            7       1.69    1.99    0.00   0.0    0        \n",
       "  SpecialMM LoyalCH  SalePriceMM SalePriceCH PriceDiff Store7 PctDiscMM\n",
       "1 0         0.500000 1.99        1.75         0.24     No     0.000000 \n",
       "2 1         0.600000 1.69        1.75        -0.06     No     0.150754 \n",
       "3 0         0.680000 2.09        1.69         0.40     No     0.000000 \n",
       "4 0         0.400000 1.69        1.69         0.00     No     0.000000 \n",
       "5 0         0.956535 1.69        1.69         0.00     Yes    0.000000 \n",
       "6 1         0.965228 1.99        1.69         0.30     Yes    0.000000 \n",
       "  PctDiscCH ListPriceDiff STORE\n",
       "1 0.000000  0.24          1    \n",
       "2 0.000000  0.24          1    \n",
       "3 0.091398  0.23          1    \n",
       "4 0.000000  0.00          1    \n",
       "5 0.000000  0.00          0    \n",
       "6 0.000000  0.30          0    "
      ]
     },
     "metadata": {},
     "output_type": "display_data"
    }
   ],
   "source": [
    "head(OJ)"
   ]
  },
  {
   "cell_type": "code",
   "execution_count": 83,
   "id": "50dfff5b",
   "metadata": {},
   "outputs": [],
   "source": [
    "#Part a\n",
    "set.seed(123)\n",
    "data_split <- sample(1:nrow(OJ), 800)\n",
    "train <- OJ[data_split, ]\n",
    "test <- OJ[-data_split, ]"
   ]
  },
  {
   "cell_type": "code",
   "execution_count": 84,
   "id": "bf61ac8d",
   "metadata": {},
   "outputs": [
    {
     "data": {
      "text/plain": [
       "\n",
       "Classification tree:\n",
       "tree(formula = Purchase ~ ., data = train)\n",
       "Variables actually used in tree construction:\n",
       "[1] \"LoyalCH\"   \"PriceDiff\"\n",
       "Number of terminal nodes:  8 \n",
       "Residual mean deviance:  0.7625 = 603.9 / 792 \n",
       "Misclassification error rate: 0.165 = 132 / 800 "
      ]
     },
     "metadata": {},
     "output_type": "display_data"
    }
   ],
   "source": [
    "#Part b\n",
    "tree_OJ <- tree(Purchase ~ ., data = train)\n",
    "summary(tree_OJ)\n",
    "#According to the below results, the training error rate is 0.165 and there are 8 terminal nodes."
   ]
  },
  {
   "cell_type": "code",
   "execution_count": 85,
   "id": "30cc932c",
   "metadata": {},
   "outputs": [
    {
     "data": {
      "text/plain": [
       "node), split, n, deviance, yval, (yprob)\n",
       "      * denotes terminal node\n",
       "\n",
       " 1) root 800 1071.00 CH ( 0.60875 0.39125 )  \n",
       "   2) LoyalCH < 0.5036 350  415.10 MM ( 0.28000 0.72000 )  \n",
       "     4) LoyalCH < 0.276142 170  131.00 MM ( 0.12941 0.87059 )  \n",
       "       8) LoyalCH < 0.0356415 56   10.03 MM ( 0.01786 0.98214 ) *\n",
       "       9) LoyalCH > 0.0356415 114  108.90 MM ( 0.18421 0.81579 ) *\n",
       "     5) LoyalCH > 0.276142 180  245.20 MM ( 0.42222 0.57778 )  \n",
       "      10) PriceDiff < 0.05 74   74.61 MM ( 0.20270 0.79730 ) *\n",
       "      11) PriceDiff > 0.05 106  144.50 CH ( 0.57547 0.42453 ) *\n",
       "   3) LoyalCH > 0.5036 450  357.10 CH ( 0.86444 0.13556 )  \n",
       "     6) PriceDiff < -0.39 27   32.82 MM ( 0.29630 0.70370 ) *\n",
       "     7) PriceDiff > -0.39 423  273.70 CH ( 0.90071 0.09929 )  \n",
       "      14) LoyalCH < 0.705326 130  135.50 CH ( 0.78462 0.21538 )  \n",
       "        28) PriceDiff < 0.145 43   58.47 CH ( 0.58140 0.41860 ) *\n",
       "        29) PriceDiff > 0.145 87   62.07 CH ( 0.88506 0.11494 ) *\n",
       "      15) LoyalCH > 0.705326 293  112.50 CH ( 0.95222 0.04778 ) *"
      ]
     },
     "metadata": {},
     "output_type": "display_data"
    }
   ],
   "source": [
    "#Part c\n",
    "tree_OJ"
   ]
  },
  {
   "cell_type": "code",
   "execution_count": 86,
   "id": "6174c509",
   "metadata": {},
   "outputs": [],
   "source": [
    "#Node label 10 is a terminal node because of the asterisk.\n",
    "#The split criterion is LoyalCH < 0.05.\n",
    "#The number of observations in that branch is 74 with a deviance of 74.61 and an overall prediction for the branch of MM. \n",
    "#2% of the observations in that branch take the value of CH, and 98% take the value of MM."
   ]
  },
  {
   "cell_type": "code",
   "execution_count": 70,
   "id": "ca5978f8",
   "metadata": {},
   "outputs": [
    {
     "data": {
      "image/png": "[encoded data removed]",
      "text/plain": [
       "plot without title"
      ]
     },
     "metadata": {},
     "output_type": "display_data"
    }
   ],
   "source": [
    "#Part d \n",
    "plot(tree_OJ)\n",
    "text(tree_OJ, pretty = 0)"
   ]
  },
  {
   "cell_type": "code",
   "execution_count": 72,
   "id": "920e8768",
   "metadata": {},
   "outputs": [
    {
     "data": {
      "text/plain": [
       "         \n",
       "tree_pred  CH  MM\n",
       "       CH 150  34\n",
       "       MM  16  70"
      ]
     },
     "metadata": {},
     "output_type": "display_data"
    }
   ],
   "source": [
    "#Part e\n",
    "tree_pred <- predict(tree_OJ, test, type = \"class\")\n",
    "table(tree_pred, test$Purchase)"
   ]
  },
  {
   "cell_type": "code",
   "execution_count": 87,
   "id": "7280137d",
   "metadata": {},
   "outputs": [
    {
     "data": {
      "text/html": [
       "0.185185185185185"
      ],
      "text/latex": [
       "0.185185185185185"
      ],
      "text/markdown": [
       "0.185185185185185"
      ],
      "text/plain": [
       "[1] 0.1851852"
      ]
     },
     "metadata": {},
     "output_type": "display_data"
    }
   ],
   "source": [
    "1 - (150 + 70) / 270\n",
    "#According to the below, the test error rate is around 18.51%."
   ]
  },
  {
   "cell_type": "code",
   "execution_count": 88,
   "id": "cd67ed66",
   "metadata": {},
   "outputs": [
    {
     "data": {
      "text/plain": [
       "$size\n",
       "[1] 8 5 3 2 1\n",
       "\n",
       "$dev\n",
       "[1] 141 138 161 165 313\n",
       "\n",
       "$k\n",
       "[1] -Inf    0    8   11  154\n",
       "\n",
       "$method\n",
       "[1] \"misclass\"\n",
       "\n",
       "attr(,\"class\")\n",
       "[1] \"prune\"         \"tree.sequence\""
      ]
     },
     "metadata": {},
     "output_type": "display_data"
    }
   ],
   "source": [
    "#Part f\n",
    "cv_OJ <- cv.tree(tree_OJ, FUN = prune.misclass)\n",
    "cv_OJ"
   ]
  },
  {
   "cell_type": "code",
   "execution_count": 89,
   "id": "765b54aa",
   "metadata": {},
   "outputs": [
    {
     "data": {
      "image/png": "[encoded data removed]",
      "text/plain": [
       "plot without title"
      ]
     },
     "metadata": {},
     "output_type": "display_data"
    }
   ],
   "source": [
    "#Part g \n",
    "plot(cv_OJ$size, cv_OJ$dev, type = \"b\", xlab = \"Tree size\", ylab = \"Deviance\")"
   ]
  },
  {
   "cell_type": "code",
   "execution_count": 90,
   "id": "9ef27a3f",
   "metadata": {},
   "outputs": [],
   "source": [
    "#Part h\n",
    "#The 5-node tree corresponds to the lowest cross-validated classification error rate."
   ]
  },
  {
   "cell_type": "code",
   "execution_count": 91,
   "id": "6696f13a",
   "metadata": {},
   "outputs": [
    {
     "data": {
      "image/png": "[encoded data removed]",
      "text/plain": [
       "plot without title"
      ]
     },
     "metadata": {},
     "output_type": "display_data"
    }
   ],
   "source": [
    "#Part i\n",
    "prune_OJ <- prune.misclass(tree_OJ, best = 5)\n",
    "plot(prune_OJ)\n",
    "text(prune_OJ, pretty = 0)"
   ]
  },
  {
   "cell_type": "code",
   "execution_count": 92,
   "id": "98a6b303",
   "metadata": {},
   "outputs": [
    {
     "data": {
      "text/plain": [
       "\n",
       "Classification tree:\n",
       "tree(formula = Purchase ~ ., data = train)\n",
       "Variables actually used in tree construction:\n",
       "[1] \"LoyalCH\"   \"PriceDiff\"\n",
       "Number of terminal nodes:  8 \n",
       "Residual mean deviance:  0.7625 = 603.9 / 792 \n",
       "Misclassification error rate: 0.165 = 132 / 800 "
      ]
     },
     "metadata": {},
     "output_type": "display_data"
    }
   ],
   "source": [
    "#Part j\n",
    "summary(tree_OJ)"
   ]
  },
  {
   "cell_type": "code",
   "execution_count": 93,
   "id": "82d1b503",
   "metadata": {},
   "outputs": [
    {
     "data": {
      "text/plain": [
       "\n",
       "Classification tree:\n",
       "snip.tree(tree = tree_OJ, nodes = c(4L, 7L))\n",
       "Variables actually used in tree construction:\n",
       "[1] \"LoyalCH\"   \"PriceDiff\"\n",
       "Number of terminal nodes:  5 \n",
       "Residual mean deviance:  0.826 = 656.6 / 795 \n",
       "Misclassification error rate: 0.165 = 132 / 800 "
      ]
     },
     "metadata": {},
     "output_type": "display_data"
    }
   ],
   "source": [
    "summary(prune_OJ)"
   ]
  },
  {
   "cell_type": "code",
   "execution_count": 94,
   "id": "1624aa46",
   "metadata": {},
   "outputs": [],
   "source": [
    "#According to the above results, the error rate is the same for the pruned and un-pruned trees."
   ]
  },
  {
   "cell_type": "code",
   "execution_count": 95,
   "id": "506fda40",
   "metadata": {},
   "outputs": [
    {
     "data": {
      "text/plain": [
       "          \n",
       "prune_pred  CH  MM\n",
       "        CH 150  34\n",
       "        MM  16  70"
      ]
     },
     "metadata": {},
     "output_type": "display_data"
    }
   ],
   "source": [
    "#Part k\n",
    "prune_pred <- predict(prune_OJ, test, type = \"class\")\n",
    "table(prune_pred, test$Purchase)"
   ]
  },
  {
   "cell_type": "code",
   "execution_count": 97,
   "id": "aaa2da52",
   "metadata": {},
   "outputs": [
    {
     "data": {
      "text/html": [
       "0.185185185185185"
      ],
      "text/latex": [
       "0.185185185185185"
      ],
      "text/markdown": [
       "0.185185185185185"
      ],
      "text/plain": [
       "[1] 0.1851852"
      ]
     },
     "metadata": {},
     "output_type": "display_data"
    }
   ],
   "source": [
    "1 - (150 + 70) / 270\n",
    "#According to the below, the test error rate is also around 18.51%."
   ]
  },
  {
   "cell_type": "markdown",
   "id": "0522e904",
   "metadata": {},
   "source": [
    "### Exercise 10"
   ]
  },
  {
   "cell_type": "code",
   "execution_count": 99,
   "id": "ac662345",
   "metadata": {},
   "outputs": [
    {
     "data": {
      "text/html": [
       "<table>\n",
       "<thead><tr><th></th><th scope=col>AtBat</th><th scope=col>Hits</th><th scope=col>HmRun</th><th scope=col>Runs</th><th scope=col>RBI</th><th scope=col>Walks</th><th scope=col>Years</th><th scope=col>CAtBat</th><th scope=col>CHits</th><th scope=col>CHmRun</th><th scope=col>CRuns</th><th scope=col>CRBI</th><th scope=col>CWalks</th><th scope=col>League</th><th scope=col>Division</th><th scope=col>PutOuts</th><th scope=col>Assists</th><th scope=col>Errors</th><th scope=col>Salary</th><th scope=col>NewLeague</th></tr></thead>\n",
       "<tbody>\n",
       "\t<tr><th scope=row>-Andy Allanson</th><td>293  </td><td> 66  </td><td> 1   </td><td>30   </td><td>29   </td><td>14   </td><td> 1   </td><td> 293 </td><td>  66 </td><td>  1  </td><td> 30  </td><td> 29  </td><td> 14  </td><td>A    </td><td>E    </td><td>446  </td><td> 33  </td><td>20   </td><td>   NA</td><td>A    </td></tr>\n",
       "\t<tr><th scope=row>-Alan Ashby</th><td>315  </td><td> 81  </td><td> 7   </td><td>24   </td><td>38   </td><td>39   </td><td>14   </td><td>3449 </td><td> 835 </td><td> 69  </td><td>321  </td><td>414  </td><td>375  </td><td>N    </td><td>W    </td><td>632  </td><td> 43  </td><td>10   </td><td>475.0</td><td>N    </td></tr>\n",
       "\t<tr><th scope=row>-Alvin Davis</th><td>479  </td><td>130  </td><td>18   </td><td>66   </td><td>72   </td><td>76   </td><td> 3   </td><td>1624 </td><td> 457 </td><td> 63  </td><td>224  </td><td>266  </td><td>263  </td><td>A    </td><td>W    </td><td>880  </td><td> 82  </td><td>14   </td><td>480.0</td><td>A    </td></tr>\n",
       "\t<tr><th scope=row>-Andre Dawson</th><td>496  </td><td>141  </td><td>20   </td><td>65   </td><td>78   </td><td>37   </td><td>11   </td><td>5628 </td><td>1575 </td><td>225  </td><td>828  </td><td>838  </td><td>354  </td><td>N    </td><td>E    </td><td>200  </td><td> 11  </td><td> 3   </td><td>500.0</td><td>N    </td></tr>\n",
       "\t<tr><th scope=row>-Andres Galarraga</th><td>321  </td><td> 87  </td><td>10   </td><td>39   </td><td>42   </td><td>30   </td><td> 2   </td><td> 396 </td><td> 101 </td><td> 12  </td><td> 48  </td><td> 46  </td><td> 33  </td><td>N    </td><td>E    </td><td>805  </td><td> 40  </td><td> 4   </td><td> 91.5</td><td>N    </td></tr>\n",
       "\t<tr><th scope=row>-Alfredo Griffin</th><td>594  </td><td>169  </td><td> 4   </td><td>74   </td><td>51   </td><td>35   </td><td>11   </td><td>4408 </td><td>1133 </td><td> 19  </td><td>501  </td><td>336  </td><td>194  </td><td>A    </td><td>W    </td><td>282  </td><td>421  </td><td>25   </td><td>750.0</td><td>A    </td></tr>\n",
       "</tbody>\n",
       "</table>\n"
      ],
      "text/latex": [
       "\\begin{tabular}{r|llllllllllllllllllll}\n",
       "  & AtBat & Hits & HmRun & Runs & RBI & Walks & Years & CAtBat & CHits & CHmRun & CRuns & CRBI & CWalks & League & Division & PutOuts & Assists & Errors & Salary & NewLeague\\\\\n",
       "\\hline\n",
       "\t-Andy Allanson & 293   &  66   &  1    & 30    & 29    & 14    &  1    &  293  &   66  &   1   &  30   &  29   &  14   & A     & E     & 446   &  33   & 20    &    NA & A    \\\\\n",
       "\t-Alan Ashby & 315   &  81   &  7    & 24    & 38    & 39    & 14    & 3449  &  835  &  69   & 321   & 414   & 375   & N     & W     & 632   &  43   & 10    & 475.0 & N    \\\\\n",
       "\t-Alvin Davis & 479   & 130   & 18    & 66    & 72    & 76    &  3    & 1624  &  457  &  63   & 224   & 266   & 263   & A     & W     & 880   &  82   & 14    & 480.0 & A    \\\\\n",
       "\t-Andre Dawson & 496   & 141   & 20    & 65    & 78    & 37    & 11    & 5628  & 1575  & 225   & 828   & 838   & 354   & N     & E     & 200   &  11   &  3    & 500.0 & N    \\\\\n",
       "\t-Andres Galarraga & 321   &  87   & 10    & 39    & 42    & 30    &  2    &  396  &  101  &  12   &  48   &  46   &  33   & N     & E     & 805   &  40   &  4    &  91.5 & N    \\\\\n",
       "\t-Alfredo Griffin & 594   & 169   &  4    & 74    & 51    & 35    & 11    & 4408  & 1133  &  19   & 501   & 336   & 194   & A     & W     & 282   & 421   & 25    & 750.0 & A    \\\\\n",
       "\\end{tabular}\n"
      ],
      "text/markdown": [
       "\n",
       "| <!--/--> | AtBat | Hits | HmRun | Runs | RBI | Walks | Years | CAtBat | CHits | CHmRun | CRuns | CRBI | CWalks | League | Division | PutOuts | Assists | Errors | Salary | NewLeague |\n",
       "|---|---|---|---|---|---|---|---|---|---|---|---|---|---|---|---|---|---|---|---|---|\n",
       "| -Andy Allanson | 293   |  66   |  1    | 30    | 29    | 14    |  1    |  293  |   66  |   1   |  30   |  29   |  14   | A     | E     | 446   |  33   | 20    |    NA | A     |\n",
       "| -Alan Ashby | 315   |  81   |  7    | 24    | 38    | 39    | 14    | 3449  |  835  |  69   | 321   | 414   | 375   | N     | W     | 632   |  43   | 10    | 475.0 | N     |\n",
       "| -Alvin Davis | 479   | 130   | 18    | 66    | 72    | 76    |  3    | 1624  |  457  |  63   | 224   | 266   | 263   | A     | W     | 880   |  82   | 14    | 480.0 | A     |\n",
       "| -Andre Dawson | 496   | 141   | 20    | 65    | 78    | 37    | 11    | 5628  | 1575  | 225   | 828   | 838   | 354   | N     | E     | 200   |  11   |  3    | 500.0 | N     |\n",
       "| -Andres Galarraga | 321   |  87   | 10    | 39    | 42    | 30    |  2    |  396  |  101  |  12   |  48   |  46   |  33   | N     | E     | 805   |  40   |  4    |  91.5 | N     |\n",
       "| -Alfredo Griffin | 594   | 169   |  4    | 74    | 51    | 35    | 11    | 4408  | 1133  |  19   | 501   | 336   | 194   | A     | W     | 282   | 421   | 25    | 750.0 | A     |\n",
       "\n"
      ],
      "text/plain": [
       "                  AtBat Hits HmRun Runs RBI Walks Years CAtBat CHits CHmRun\n",
       "-Andy Allanson    293    66   1    30   29  14     1     293     66    1   \n",
       "-Alan Ashby       315    81   7    24   38  39    14    3449    835   69   \n",
       "-Alvin Davis      479   130  18    66   72  76     3    1624    457   63   \n",
       "-Andre Dawson     496   141  20    65   78  37    11    5628   1575  225   \n",
       "-Andres Galarraga 321    87  10    39   42  30     2     396    101   12   \n",
       "-Alfredo Griffin  594   169   4    74   51  35    11    4408   1133   19   \n",
       "                  CRuns CRBI CWalks League Division PutOuts Assists Errors\n",
       "-Andy Allanson     30    29   14    A      E        446      33     20    \n",
       "-Alan Ashby       321   414  375    N      W        632      43     10    \n",
       "-Alvin Davis      224   266  263    A      W        880      82     14    \n",
       "-Andre Dawson     828   838  354    N      E        200      11      3    \n",
       "-Andres Galarraga  48    46   33    N      E        805      40      4    \n",
       "-Alfredo Griffin  501   336  194    A      W        282     421     25    \n",
       "                  Salary NewLeague\n",
       "-Andy Allanson       NA  A        \n",
       "-Alan Ashby       475.0  N        \n",
       "-Alvin Davis      480.0  A        \n",
       "-Andre Dawson     500.0  N        \n",
       "-Andres Galarraga  91.5  N        \n",
       "-Alfredo Griffin  750.0  A        "
      ]
     },
     "metadata": {},
     "output_type": "display_data"
    }
   ],
   "source": [
    "head(Hitters)"
   ]
  },
  {
   "cell_type": "code",
   "execution_count": 111,
   "id": "5fbfc80d",
   "metadata": {},
   "outputs": [],
   "source": [
    "#Part a\n",
    "Hitters <- na.omit(Hitters)\n",
    "Hitters$Salary <- log(Hitters$Salary)"
   ]
  },
  {
   "cell_type": "code",
   "execution_count": 117,
   "id": "f4c939f4",
   "metadata": {},
   "outputs": [],
   "source": [
    "#Part b\n",
    "set.seed(123)\n",
    "data_split <- sample(1:nrow(Hitters), 200)\n",
    "train <- Hitters[data_split, ]\n",
    "test <- Hitters[-data_split, ]"
   ]
  },
  {
   "cell_type": "code",
   "execution_count": 124,
   "id": "db871249",
   "metadata": {},
   "outputs": [],
   "source": [
    "#Part c"
   ]
  },
  {
   "cell_type": "code",
   "execution_count": 125,
   "id": "69343d9e",
   "metadata": {},
   "outputs": [],
   "source": [
    "#Part d"
   ]
  },
  {
   "cell_type": "code",
   "execution_count": 120,
   "id": "ec7da7b6",
   "metadata": {},
   "outputs": [],
   "source": [
    "#Part e\n",
    "library(glmnet)"
   ]
  },
  {
   "cell_type": "code",
   "execution_count": 121,
   "id": "82f5c03c",
   "metadata": {},
   "outputs": [
    {
     "data": {
      "text/html": [
       "0.0140017671204191"
      ],
      "text/latex": [
       "0.0140017671204191"
      ],
      "text/markdown": [
       "0.0140017671204191"
      ],
      "text/plain": [
       "[1] 0.01400177"
      ]
     },
     "metadata": {},
     "output_type": "display_data"
    }
   ],
   "source": [
    "fit_1 <- lm(Salary ~ ., data = train)\n",
    "pred_1 <- predict(fit_1, test)\n",
    "mean((test$Salary - pred_1)^2)"
   ]
  },
  {
   "cell_type": "code",
   "execution_count": 122,
   "id": "5303f4c8",
   "metadata": {},
   "outputs": [
    {
     "data": {
      "text/html": [
       "0.0139680635991602"
      ],
      "text/latex": [
       "0.0139680635991602"
      ],
      "text/markdown": [
       "0.0139680635991602"
      ],
      "text/plain": [
       "[1] 0.01396806"
      ]
     },
     "metadata": {},
     "output_type": "display_data"
    }
   ],
   "source": [
    "x <- model.matrix(Salary ~ ., data = train)\n",
    "x_test <- model.matrix(Salary ~ ., data = test)\n",
    "y <- train$Salary\n",
    "fit_2 <- glmnet(x, y, alpha = 0)\n",
    "pred_2 <- predict(fit_2, s = 0.01, newx = x_test)\n",
    "mean((test$Salary - pred_2)^2)"
   ]
  },
  {
   "cell_type": "code",
   "execution_count": 126,
   "id": "bec60368",
   "metadata": {},
   "outputs": [],
   "source": [
    "#Part f"
   ]
  },
  {
   "cell_type": "code",
   "execution_count": null,
   "id": "05c932d6",
   "metadata": {},
   "outputs": [],
   "source": [
    "#Part g"
   ]
  }
 ],
 "metadata": {
  "kernelspec": {
   "display_name": "R",
   "language": "R",
   "name": "ir"
  },
  "language_info": {
   "codemirror_mode": "r",
   "file_extension": ".r",
   "mimetype": "text/x-r-source",
   "name": "R",
   "pygments_lexer": "r",
   "version": "3.6.1"
  }
 },
 "nbformat": 4,
 "nbformat_minor": 5
}
